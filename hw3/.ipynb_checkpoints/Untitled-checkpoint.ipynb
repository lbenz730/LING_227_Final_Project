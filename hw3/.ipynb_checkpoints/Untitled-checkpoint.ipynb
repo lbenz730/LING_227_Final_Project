{
 "cells": [
  {
   "cell_type": "code",
   "execution_count": 1,
   "metadata": {
    "collapsed": true
   },
   "outputs": [],
   "source": [
    "import re\n",
    "import sys\n",
    "import random\n",
    "from collections import defaultdict"
   ]
  },
  {
   "cell_type": "code",
   "execution_count": 418,
   "metadata": {
    "collapsed": true
   },
   "outputs": [],
   "source": [
    "n = 2"
   ]
  },
  {
   "cell_type": "code",
   "execution_count": 419,
   "metadata": {
    "collapsed": true
   },
   "outputs": [],
   "source": [
    "counts = defaultdict(lambda:0)\n",
    "bicounts = defaultdict(lambda:defaultdict(lambda:0))\n",
    "tricounts = defaultdict(lambda:defaultdict(lambda:defaultdict(lambda:0)))"
   ]
  },
  {
   "cell_type": "code",
   "execution_count": 420,
   "metadata": {
    "collapsed": false
   },
   "outputs": [],
   "source": [
    "words = ''\n",
    "with open('lexicon.trans') as language:\n",
    "    for line in language:\n",
    "        words1 = re.sub(r'[\\n\\t]+',' ',line)\n",
    "        newsep = '#'\n",
    "        for i in range(n-2):\n",
    "            newsep = newsep + ' #'\n",
    "        words2 = re.sub(r'\\#',newsep,words1)\n",
    "\n",
    "        words = re.split(r'[ ]+', words2)\n",
    "#        print words\n",
    "\n",
    "    # we go through each position and keep track of word and word pair counts\n",
    "        for i in range(len(words)):\n",
    "            counts[words[i]] = counts[words[i]] + 1\n",
    "            if i<len(words)-1:\n",
    "                bicounts[words[i]][words[i+1]] = bicounts[words[i]][words[i+1]] + 1\n",
    "            if i<len(words)-2:\n",
    "                tricounts[words[i]][words[i+1]][words[i+2]] = tricounts[words[i]][words[i+1]][words[i+2]] + 1\n"
   ]
  },
  {
   "cell_type": "code",
   "execution_count": 421,
   "metadata": {
    "collapsed": false
   },
   "outputs": [
    {
     "data": {
      "text/plain": [
       "112110"
      ]
     },
     "execution_count": 421,
     "metadata": {},
     "output_type": "execute_result"
    }
   ],
   "source": [
    "counts['#']"
   ]
  },
  {
   "cell_type": "code",
   "execution_count": 422,
   "metadata": {
    "collapsed": false
   },
   "outputs": [],
   "source": [
    "bigram = defaultdict(lambda:{})\n",
    "trigram = defaultdict(lambda:defaultdict(lambda:{}))\n",
    "\n",
    "# this loops through all word pairs and computes relative frequency estimates\n",
    "for word1 in counts:\n",
    "    for word2 in bicounts[word1]:\n",
    "        bigram[word1][word2] = float(bicounts[word1][word2])/float(counts[word1])\n",
    "        for word3 in tricounts[word1][word2]:\n",
    "            trigram[word1][word2][word3] = float(tricounts[word1][word2][word3])/float(bicounts[word1][word2])\n",
    "        #print \"P(\" + word2 + \" | \" + word1 + \")\\tis\\t\" + str(bigram[word1][word2])\n"
   ]
  },
  {
   "cell_type": "code",
   "execution_count": 423,
   "metadata": {
    "collapsed": false
   },
   "outputs": [],
   "source": [
    "#given a word, randomly generates and returns the next word using the bigram model\n",
    "def generate_word_bigram(word):\n",
    "    # generate a random float between 0 and 1\n",
    "    # we will use this float to probabilistically select a 'bin'\n",
    "    # corresponding to a word in our bigram model\n",
    "    rand = random.uniform(0,1)\n",
    "    # go through each possible second word\n",
    "    for following in bigram[word]:\n",
    "        # subtract this word's probability from rand \n",
    "        rand -= bigram[word][following]\n",
    "        # as soon as we 'cross over' zero we have found the word for that bin\n",
    "        if rand < 0.0: return following\n",
    "    return following\n",
    "\n",
    "def generate_word_trigram(word1, word2):\n",
    "    rand = random.uniform(0,1)\n",
    "    # go through each possible second word\n",
    "    for following in trigram[word1][word2]:\n",
    "        # subtract this word's probability from rand \n",
    "        rand -= trigram[word1][word2][following]\n",
    "        # as soon as we 'cross over' zero we have found the word for that bin\n",
    "        if rand < 0.0: return following\n",
    "    return following"
   ]
  },
  {
   "cell_type": "code",
   "execution_count": 424,
   "metadata": {
    "collapsed": true
   },
   "outputs": [],
   "source": [
    "def generate_sentence():\n",
    "    sentence = \"#\"\n",
    "    word1 = '#'\n",
    "    word2 = '#'\n",
    "    current = ''\n",
    "    while current is not '#':\n",
    "        if n == 2:\n",
    "            current = generate_word_bigram(word1)\n",
    "            word1 = current\n",
    "        else:\n",
    "            current = generate_word_trigram(word1,word2)\n",
    "            word1 = word2\n",
    "            word2 = current\n",
    "        sentence += \" \" + current\n",
    "        print current, ' ',\n",
    "    return sentence"
   ]
  },
  {
   "cell_type": "code",
   "execution_count": 425,
   "metadata": {
    "collapsed": false
   },
   "outputs": [
    {
     "data": {
      "text/plain": [
       "{'AA': 0.08751733703190014,\n",
       " 'AE': 0.05547850208044383,\n",
       " 'AH': 0.026144244105409154,\n",
       " 'AO': 0.0361997226074896,\n",
       " 'AW': 0.011927877947295423,\n",
       " 'AX': 0.1664355062413315,\n",
       " 'AXR': 0.03585298196948682,\n",
       " 'AY': 0.005963938973647711,\n",
       " 'CH': 0.005686546463245492,\n",
       " 'EH': 0.019486823855755894,\n",
       " 'ER': 0.01130374479889043,\n",
       " 'EY': 0.03342579750346741,\n",
       " 'F': 0.0023578363384188627,\n",
       " 'HH': 0.0030513176144244107,\n",
       " 'IH': 0.017059639389736477,\n",
       " 'IX': 0.03176144244105409,\n",
       " 'IY': 0.035159500693481276,\n",
       " 'JH': 0.00041608876560332873,\n",
       " 'L': 0.059361997226074895,\n",
       " 'M': 0.005894590846047157,\n",
       " 'N': 0.007558945908460472,\n",
       " 'OW': 0.04625520110957004,\n",
       " 'OY': 0.0014563106796116505,\n",
       " 'R': 0.07309292649098474,\n",
       " 'S': 0.11719833564493759,\n",
       " 'SH': 0.019001386962552012,\n",
       " 'UH': 0.002565880721220527,\n",
       " 'UW': 0.010540915395284327,\n",
       " 'V': 0.00041608876560332873,\n",
       " 'W': 0.04535367545076283,\n",
       " 'Y': 0.026005547850208043,\n",
       " 'Z': 6.934812760055478e-05}"
      ]
     },
     "execution_count": 425,
     "metadata": {},
     "output_type": "execute_result"
    }
   ],
   "source": [
    "bigram['K']"
   ]
  },
  {
   "cell_type": "code",
   "execution_count": 427,
   "metadata": {
    "collapsed": false
   },
   "outputs": [
    {
     "ename": "UnboundLocalError",
     "evalue": "local variable 'following' referenced before assignment",
     "output_type": "error",
     "traceback": [
      "\u001b[0;31m---------------------------------------------------------------------------\u001b[0m",
      "\u001b[0;31mUnboundLocalError\u001b[0m                         Traceback (most recent call last)",
      "\u001b[0;32m<ipython-input-427-0af68cff4317>\u001b[0m in \u001b[0;36m<module>\u001b[0;34m()\u001b[0m\n\u001b[0;32m----> 1\u001b[0;31m \u001b[0mgenerate_sentence\u001b[0m\u001b[0;34m(\u001b[0m\u001b[0;34m)\u001b[0m\u001b[0;34m\u001b[0m\u001b[0m\n\u001b[0m",
      "\u001b[0;32m<ipython-input-424-48a1201f8830>\u001b[0m in \u001b[0;36mgenerate_sentence\u001b[0;34m()\u001b[0m\n\u001b[1;32m      6\u001b[0m     \u001b[0;32mwhile\u001b[0m \u001b[0mcurrent\u001b[0m \u001b[0;32mis\u001b[0m \u001b[0;32mnot\u001b[0m \u001b[0;34m'#'\u001b[0m\u001b[0;34m:\u001b[0m\u001b[0;34m\u001b[0m\u001b[0m\n\u001b[1;32m      7\u001b[0m         \u001b[0;32mif\u001b[0m \u001b[0mn\u001b[0m \u001b[0;34m==\u001b[0m \u001b[0;36m2\u001b[0m\u001b[0;34m:\u001b[0m\u001b[0;34m\u001b[0m\u001b[0m\n\u001b[0;32m----> 8\u001b[0;31m             \u001b[0mcurrent\u001b[0m \u001b[0;34m=\u001b[0m \u001b[0mgenerate_word_bigram\u001b[0m\u001b[0;34m(\u001b[0m\u001b[0mword1\u001b[0m\u001b[0;34m)\u001b[0m\u001b[0;34m\u001b[0m\u001b[0m\n\u001b[0m\u001b[1;32m      9\u001b[0m             \u001b[0mword1\u001b[0m \u001b[0;34m=\u001b[0m \u001b[0mcurrent\u001b[0m\u001b[0;34m\u001b[0m\u001b[0m\n\u001b[1;32m     10\u001b[0m         \u001b[0;32melse\u001b[0m\u001b[0;34m:\u001b[0m\u001b[0;34m\u001b[0m\u001b[0m\n",
      "\u001b[0;32m<ipython-input-423-1bb5354960b2>\u001b[0m in \u001b[0;36mgenerate_word_bigram\u001b[0;34m(word)\u001b[0m\n\u001b[1;32m     11\u001b[0m         \u001b[0;31m# as soon as we 'cross over' zero we have found the word for that bin\u001b[0m\u001b[0;34m\u001b[0m\u001b[0;34m\u001b[0m\u001b[0m\n\u001b[1;32m     12\u001b[0m         \u001b[0;32mif\u001b[0m \u001b[0mrand\u001b[0m \u001b[0;34m<\u001b[0m \u001b[0;36m0.0\u001b[0m\u001b[0;34m:\u001b[0m \u001b[0;32mreturn\u001b[0m \u001b[0mfollowing\u001b[0m\u001b[0;34m\u001b[0m\u001b[0m\n\u001b[0;32m---> 13\u001b[0;31m     \u001b[0;32mreturn\u001b[0m \u001b[0mfollowing\u001b[0m\u001b[0;34m\u001b[0m\u001b[0m\n\u001b[0m\u001b[1;32m     14\u001b[0m \u001b[0;34m\u001b[0m\u001b[0m\n\u001b[1;32m     15\u001b[0m \u001b[0;32mdef\u001b[0m \u001b[0mgenerate_word_trigram\u001b[0m\u001b[0;34m(\u001b[0m\u001b[0mword1\u001b[0m\u001b[0;34m,\u001b[0m \u001b[0mword2\u001b[0m\u001b[0;34m)\u001b[0m\u001b[0;34m:\u001b[0m\u001b[0;34m\u001b[0m\u001b[0m\n",
      "\u001b[0;31mUnboundLocalError\u001b[0m: local variable 'following' referenced before assignment"
     ]
    }
   ],
   "source": [
    "generate_sentence()"
   ]
  },
  {
   "cell_type": "code",
   "execution_count": 429,
   "metadata": {
    "collapsed": false
   },
   "outputs": [
    {
     "name": "stdout",
     "output_type": "stream",
     "text": [
      "AXR\n",
      "DD\n",
      "AY\n",
      "EH\n",
      "#\n",
      "IY\n",
      "IX\n",
      "AE\n",
      "D\n",
      "AH\n",
      "M\n",
      "L\n",
      "AO\n",
      "N\n",
      "IH\n",
      "S\n",
      "R\n",
      "EY\n",
      "AW\n",
      "Y\n",
      "AX\n",
      "Z\n",
      "ER\n",
      "OW\n",
      "OW finally\n"
     ]
    }
   ],
   "source": [
    "for a in bigram['DH']: \n",
    "    print a\n",
    "print a, \"finally\""
   ]
  },
  {
   "cell_type": "code",
   "execution_count": null,
   "metadata": {
    "collapsed": true
   },
   "outputs": [],
   "source": []
  }
 ],
 "metadata": {
  "kernelspec": {
   "display_name": "Python 2",
   "language": "python",
   "name": "python2"
  },
  "language_info": {
   "codemirror_mode": {
    "name": "ipython",
    "version": 2
   },
   "file_extension": ".py",
   "mimetype": "text/x-python",
   "name": "python",
   "nbconvert_exporter": "python",
   "pygments_lexer": "ipython2",
   "version": "2.7.13"
  }
 },
 "nbformat": 4,
 "nbformat_minor": 0
}
